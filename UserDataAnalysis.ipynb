{
  "nbformat": 4,
  "nbformat_minor": 0,
  "metadata": {
    "colab": {
      "name": "UserDataAnalysis.ipynb",
      "provenance": [],
      "collapsed_sections": []
    },
    "kernelspec": {
      "name": "python3",
      "display_name": "Python 3"
    },
    "language_info": {
      "name": "python"
    }
  },
  "cells": [
    {
      "cell_type": "code",
      "execution_count": null,
      "metadata": {
        "id": "taDypAWlU-ry"
      },
      "outputs": [],
      "source": [
        "import numpy as np\n",
        "import pandas as pd\n",
        "import matplotlib.pyplot as plt\n",
        "import seaborn as sns"
      ]
    },
    {
      "cell_type": "code",
      "source": [
        "#importing  dataset\n",
        "df=pd.read_csv('User_leads.csv')"
      ],
      "metadata": {
        "id": "mmu8uG1jVCgt"
      },
      "execution_count": null,
      "outputs": []
    },
    {
      "cell_type": "code",
      "source": [
        "df.head(10)"
      ],
      "metadata": {
        "colab": {
          "base_uri": "https://localhost:8080/",
          "height": 647
        },
        "id": "ZrWeXEZIVCpN",
        "outputId": "810a4dd6-828b-484d-b446-307f507bcda7"
      },
      "execution_count": null,
      "outputs": [
        {
          "output_type": "execute_result",
          "data": {
            "text/plain": [
              "    lead_id                        name                           email  \\\n",
              "0  80294728                   Deva Arun            devatazmin@gmail.com   \n",
              "1  80297741                Naveed Shafi       naddunaveed1419@gmail.com   \n",
              "2  80298246                     Sneha s    Jessieselvakumar26@gmail.com   \n",
              "3  80299448                 Anjali Nair         anjalinairaps@gmail.com   \n",
              "4  80299870             Shreyash Pratap             kps.hjp03@gmail.com   \n",
              "5  80299967             Shreyash Pratap             kps.hjp03@gmail.com   \n",
              "6  80301542           Sadashiv m kolkar             Sadumk143@gmail.com   \n",
              "7  80302221                       Rekha  rekhachenkulath47963@gmail.com   \n",
              "8  80302901            Zahoor ahmad dar      zahoorhussain666@gmail.com   \n",
              "9  80303010  DHRUV CHANDRAKANT SHIVNANI        komalshivnani1@gmail.com   \n",
              "\n",
              "    user_id  date_of_birth  experience  functional_area  year_passing  \\\n",
              "0  18889386            NaN         NaN              NaN           NaN   \n",
              "1  21165034            NaN         NaN              NaN           NaN   \n",
              "2  17815776            NaN         NaN              NaN           NaN   \n",
              "3  21094808            NaN         NaN              NaN           NaN   \n",
              "4  19850108            NaN         NaN              NaN           NaN   \n",
              "5  19850108            NaN         NaN              NaN           NaN   \n",
              "6  21167688            NaN         NaN              NaN           NaN   \n",
              "7   5914870            NaN         NaN              NaN           NaN   \n",
              "8  21167996            NaN         NaN              NaN           NaN   \n",
              "9  21168019            NaN         NaN              NaN           NaN   \n",
              "\n",
              "   10th_year  12th_year  ...               ip  \\\n",
              "0        NaN        NaN  ...    103.85.206.46   \n",
              "1        NaN        NaN  ...   205.253.26.160   \n",
              "2        NaN        NaN  ...  223.228.189.170   \n",
              "3        NaN        NaN  ...    110.225.92.35   \n",
              "4        NaN        NaN  ...    157.35.17.117   \n",
              "5        NaN        NaN  ...    157.35.17.117   \n",
              "6        NaN        NaN  ...   223.186.22.251   \n",
              "7        NaN        NaN  ...     47.31.129.23   \n",
              "8        NaN        NaN  ...    205.253.29.37   \n",
              "9        NaN        NaN  ...     49.36.65.150   \n",
              "\n",
              "                                    from_page  location_on_page  country  \\\n",
              "0                 course_single_page_overview               NaN      0.0   \n",
              "1                 course_single_page_overview               NaN      0.0   \n",
              "2  course_single_page_career_options_and_jobs               NaN      0.0   \n",
              "3                                     listing               NaN      0.0   \n",
              "4                 course_single_page_overview               NaN      0.0   \n",
              "5                 course_single_page_overview               NaN      0.0   \n",
              "6                 stream_single_page_overview               NaN      NaN   \n",
              "7                                     listing               NaN      0.0   \n",
              "8                 stream_single_page_overview               NaN      NaN   \n",
              "9                                     listing               NaN      NaN   \n",
              "\n",
              "   location_from_ip  single_course_id lead_type      updated_on country_code  \\\n",
              "0                 0            5721.0         6   01/03/22 8:17           91   \n",
              "1                 0            5721.0         6  01/03/22 10:26           91   \n",
              "2                 0            5721.0         6  01/03/22 10:43           91   \n",
              "3                 0               NaN         0  01/03/22 11:15           91   \n",
              "4                 0            5718.0         6  01/03/22 11:27           91   \n",
              "5                 0            1328.0         6  01/03/22 11:30           91   \n",
              "6                 0               NaN         0  01/03/22 12:14           91   \n",
              "7                 0               NaN         6  01/03/22 12:32           91   \n",
              "8                 0               NaN         0  01/03/22 12:52           91   \n",
              "9                 0               NaN         0  01/03/22 12:55           91   \n",
              "\n",
              "   sa_lead_id  \n",
              "0         NaN  \n",
              "1         NaN  \n",
              "2         NaN  \n",
              "3         NaN  \n",
              "4         NaN  \n",
              "5         NaN  \n",
              "6         NaN  \n",
              "7         NaN  \n",
              "8         NaN  \n",
              "9         NaN  \n",
              "\n",
              "[10 rows x 51 columns]"
            ],
            "text/html": [
              "\n",
              "  <div id=\"df-d115c6a2-1115-4799-8102-0a1b3b241c7a\">\n",
              "    <div class=\"colab-df-container\">\n",
              "      <div>\n",
              "<style scoped>\n",
              "    .dataframe tbody tr th:only-of-type {\n",
              "        vertical-align: middle;\n",
              "    }\n",
              "\n",
              "    .dataframe tbody tr th {\n",
              "        vertical-align: top;\n",
              "    }\n",
              "\n",
              "    .dataframe thead th {\n",
              "        text-align: right;\n",
              "    }\n",
              "</style>\n",
              "<table border=\"1\" class=\"dataframe\">\n",
              "  <thead>\n",
              "    <tr style=\"text-align: right;\">\n",
              "      <th></th>\n",
              "      <th>lead_id</th>\n",
              "      <th>name</th>\n",
              "      <th>email</th>\n",
              "      <th>user_id</th>\n",
              "      <th>date_of_birth</th>\n",
              "      <th>experience</th>\n",
              "      <th>functional_area</th>\n",
              "      <th>year_passing</th>\n",
              "      <th>10th_year</th>\n",
              "      <th>12th_year</th>\n",
              "      <th>...</th>\n",
              "      <th>ip</th>\n",
              "      <th>from_page</th>\n",
              "      <th>location_on_page</th>\n",
              "      <th>country</th>\n",
              "      <th>location_from_ip</th>\n",
              "      <th>single_course_id</th>\n",
              "      <th>lead_type</th>\n",
              "      <th>updated_on</th>\n",
              "      <th>country_code</th>\n",
              "      <th>sa_lead_id</th>\n",
              "    </tr>\n",
              "  </thead>\n",
              "  <tbody>\n",
              "    <tr>\n",
              "      <th>0</th>\n",
              "      <td>80294728</td>\n",
              "      <td>Deva Arun</td>\n",
              "      <td>devatazmin@gmail.com</td>\n",
              "      <td>18889386</td>\n",
              "      <td>NaN</td>\n",
              "      <td>NaN</td>\n",
              "      <td>NaN</td>\n",
              "      <td>NaN</td>\n",
              "      <td>NaN</td>\n",
              "      <td>NaN</td>\n",
              "      <td>...</td>\n",
              "      <td>103.85.206.46</td>\n",
              "      <td>course_single_page_overview</td>\n",
              "      <td>NaN</td>\n",
              "      <td>0.0</td>\n",
              "      <td>0</td>\n",
              "      <td>5721.0</td>\n",
              "      <td>6</td>\n",
              "      <td>01/03/22 8:17</td>\n",
              "      <td>91</td>\n",
              "      <td>NaN</td>\n",
              "    </tr>\n",
              "    <tr>\n",
              "      <th>1</th>\n",
              "      <td>80297741</td>\n",
              "      <td>Naveed Shafi</td>\n",
              "      <td>naddunaveed1419@gmail.com</td>\n",
              "      <td>21165034</td>\n",
              "      <td>NaN</td>\n",
              "      <td>NaN</td>\n",
              "      <td>NaN</td>\n",
              "      <td>NaN</td>\n",
              "      <td>NaN</td>\n",
              "      <td>NaN</td>\n",
              "      <td>...</td>\n",
              "      <td>205.253.26.160</td>\n",
              "      <td>course_single_page_overview</td>\n",
              "      <td>NaN</td>\n",
              "      <td>0.0</td>\n",
              "      <td>0</td>\n",
              "      <td>5721.0</td>\n",
              "      <td>6</td>\n",
              "      <td>01/03/22 10:26</td>\n",
              "      <td>91</td>\n",
              "      <td>NaN</td>\n",
              "    </tr>\n",
              "    <tr>\n",
              "      <th>2</th>\n",
              "      <td>80298246</td>\n",
              "      <td>Sneha s</td>\n",
              "      <td>Jessieselvakumar26@gmail.com</td>\n",
              "      <td>17815776</td>\n",
              "      <td>NaN</td>\n",
              "      <td>NaN</td>\n",
              "      <td>NaN</td>\n",
              "      <td>NaN</td>\n",
              "      <td>NaN</td>\n",
              "      <td>NaN</td>\n",
              "      <td>...</td>\n",
              "      <td>223.228.189.170</td>\n",
              "      <td>course_single_page_career_options_and_jobs</td>\n",
              "      <td>NaN</td>\n",
              "      <td>0.0</td>\n",
              "      <td>0</td>\n",
              "      <td>5721.0</td>\n",
              "      <td>6</td>\n",
              "      <td>01/03/22 10:43</td>\n",
              "      <td>91</td>\n",
              "      <td>NaN</td>\n",
              "    </tr>\n",
              "    <tr>\n",
              "      <th>3</th>\n",
              "      <td>80299448</td>\n",
              "      <td>Anjali Nair</td>\n",
              "      <td>anjalinairaps@gmail.com</td>\n",
              "      <td>21094808</td>\n",
              "      <td>NaN</td>\n",
              "      <td>NaN</td>\n",
              "      <td>NaN</td>\n",
              "      <td>NaN</td>\n",
              "      <td>NaN</td>\n",
              "      <td>NaN</td>\n",
              "      <td>...</td>\n",
              "      <td>110.225.92.35</td>\n",
              "      <td>listing</td>\n",
              "      <td>NaN</td>\n",
              "      <td>0.0</td>\n",
              "      <td>0</td>\n",
              "      <td>NaN</td>\n",
              "      <td>0</td>\n",
              "      <td>01/03/22 11:15</td>\n",
              "      <td>91</td>\n",
              "      <td>NaN</td>\n",
              "    </tr>\n",
              "    <tr>\n",
              "      <th>4</th>\n",
              "      <td>80299870</td>\n",
              "      <td>Shreyash Pratap</td>\n",
              "      <td>kps.hjp03@gmail.com</td>\n",
              "      <td>19850108</td>\n",
              "      <td>NaN</td>\n",
              "      <td>NaN</td>\n",
              "      <td>NaN</td>\n",
              "      <td>NaN</td>\n",
              "      <td>NaN</td>\n",
              "      <td>NaN</td>\n",
              "      <td>...</td>\n",
              "      <td>157.35.17.117</td>\n",
              "      <td>course_single_page_overview</td>\n",
              "      <td>NaN</td>\n",
              "      <td>0.0</td>\n",
              "      <td>0</td>\n",
              "      <td>5718.0</td>\n",
              "      <td>6</td>\n",
              "      <td>01/03/22 11:27</td>\n",
              "      <td>91</td>\n",
              "      <td>NaN</td>\n",
              "    </tr>\n",
              "    <tr>\n",
              "      <th>5</th>\n",
              "      <td>80299967</td>\n",
              "      <td>Shreyash Pratap</td>\n",
              "      <td>kps.hjp03@gmail.com</td>\n",
              "      <td>19850108</td>\n",
              "      <td>NaN</td>\n",
              "      <td>NaN</td>\n",
              "      <td>NaN</td>\n",
              "      <td>NaN</td>\n",
              "      <td>NaN</td>\n",
              "      <td>NaN</td>\n",
              "      <td>...</td>\n",
              "      <td>157.35.17.117</td>\n",
              "      <td>course_single_page_overview</td>\n",
              "      <td>NaN</td>\n",
              "      <td>0.0</td>\n",
              "      <td>0</td>\n",
              "      <td>1328.0</td>\n",
              "      <td>6</td>\n",
              "      <td>01/03/22 11:30</td>\n",
              "      <td>91</td>\n",
              "      <td>NaN</td>\n",
              "    </tr>\n",
              "    <tr>\n",
              "      <th>6</th>\n",
              "      <td>80301542</td>\n",
              "      <td>Sadashiv m kolkar</td>\n",
              "      <td>Sadumk143@gmail.com</td>\n",
              "      <td>21167688</td>\n",
              "      <td>NaN</td>\n",
              "      <td>NaN</td>\n",
              "      <td>NaN</td>\n",
              "      <td>NaN</td>\n",
              "      <td>NaN</td>\n",
              "      <td>NaN</td>\n",
              "      <td>...</td>\n",
              "      <td>223.186.22.251</td>\n",
              "      <td>stream_single_page_overview</td>\n",
              "      <td>NaN</td>\n",
              "      <td>NaN</td>\n",
              "      <td>0</td>\n",
              "      <td>NaN</td>\n",
              "      <td>0</td>\n",
              "      <td>01/03/22 12:14</td>\n",
              "      <td>91</td>\n",
              "      <td>NaN</td>\n",
              "    </tr>\n",
              "    <tr>\n",
              "      <th>7</th>\n",
              "      <td>80302221</td>\n",
              "      <td>Rekha</td>\n",
              "      <td>rekhachenkulath47963@gmail.com</td>\n",
              "      <td>5914870</td>\n",
              "      <td>NaN</td>\n",
              "      <td>NaN</td>\n",
              "      <td>NaN</td>\n",
              "      <td>NaN</td>\n",
              "      <td>NaN</td>\n",
              "      <td>NaN</td>\n",
              "      <td>...</td>\n",
              "      <td>47.31.129.23</td>\n",
              "      <td>listing</td>\n",
              "      <td>NaN</td>\n",
              "      <td>0.0</td>\n",
              "      <td>0</td>\n",
              "      <td>NaN</td>\n",
              "      <td>6</td>\n",
              "      <td>01/03/22 12:32</td>\n",
              "      <td>91</td>\n",
              "      <td>NaN</td>\n",
              "    </tr>\n",
              "    <tr>\n",
              "      <th>8</th>\n",
              "      <td>80302901</td>\n",
              "      <td>Zahoor ahmad dar</td>\n",
              "      <td>zahoorhussain666@gmail.com</td>\n",
              "      <td>21167996</td>\n",
              "      <td>NaN</td>\n",
              "      <td>NaN</td>\n",
              "      <td>NaN</td>\n",
              "      <td>NaN</td>\n",
              "      <td>NaN</td>\n",
              "      <td>NaN</td>\n",
              "      <td>...</td>\n",
              "      <td>205.253.29.37</td>\n",
              "      <td>stream_single_page_overview</td>\n",
              "      <td>NaN</td>\n",
              "      <td>NaN</td>\n",
              "      <td>0</td>\n",
              "      <td>NaN</td>\n",
              "      <td>0</td>\n",
              "      <td>01/03/22 12:52</td>\n",
              "      <td>91</td>\n",
              "      <td>NaN</td>\n",
              "    </tr>\n",
              "    <tr>\n",
              "      <th>9</th>\n",
              "      <td>80303010</td>\n",
              "      <td>DHRUV CHANDRAKANT SHIVNANI</td>\n",
              "      <td>komalshivnani1@gmail.com</td>\n",
              "      <td>21168019</td>\n",
              "      <td>NaN</td>\n",
              "      <td>NaN</td>\n",
              "      <td>NaN</td>\n",
              "      <td>NaN</td>\n",
              "      <td>NaN</td>\n",
              "      <td>NaN</td>\n",
              "      <td>...</td>\n",
              "      <td>49.36.65.150</td>\n",
              "      <td>listing</td>\n",
              "      <td>NaN</td>\n",
              "      <td>NaN</td>\n",
              "      <td>0</td>\n",
              "      <td>NaN</td>\n",
              "      <td>0</td>\n",
              "      <td>01/03/22 12:55</td>\n",
              "      <td>91</td>\n",
              "      <td>NaN</td>\n",
              "    </tr>\n",
              "  </tbody>\n",
              "</table>\n",
              "<p>10 rows × 51 columns</p>\n",
              "</div>\n",
              "      <button class=\"colab-df-convert\" onclick=\"convertToInteractive('df-d115c6a2-1115-4799-8102-0a1b3b241c7a')\"\n",
              "              title=\"Convert this dataframe to an interactive table.\"\n",
              "              style=\"display:none;\">\n",
              "        \n",
              "  <svg xmlns=\"http://www.w3.org/2000/svg\" height=\"24px\"viewBox=\"0 0 24 24\"\n",
              "       width=\"24px\">\n",
              "    <path d=\"M0 0h24v24H0V0z\" fill=\"none\"/>\n",
              "    <path d=\"M18.56 5.44l.94 2.06.94-2.06 2.06-.94-2.06-.94-.94-2.06-.94 2.06-2.06.94zm-11 1L8.5 8.5l.94-2.06 2.06-.94-2.06-.94L8.5 2.5l-.94 2.06-2.06.94zm10 10l.94 2.06.94-2.06 2.06-.94-2.06-.94-.94-2.06-.94 2.06-2.06.94z\"/><path d=\"M17.41 7.96l-1.37-1.37c-.4-.4-.92-.59-1.43-.59-.52 0-1.04.2-1.43.59L10.3 9.45l-7.72 7.72c-.78.78-.78 2.05 0 2.83L4 21.41c.39.39.9.59 1.41.59.51 0 1.02-.2 1.41-.59l7.78-7.78 2.81-2.81c.8-.78.8-2.07 0-2.86zM5.41 20L4 18.59l7.72-7.72 1.47 1.35L5.41 20z\"/>\n",
              "  </svg>\n",
              "      </button>\n",
              "      \n",
              "  <style>\n",
              "    .colab-df-container {\n",
              "      display:flex;\n",
              "      flex-wrap:wrap;\n",
              "      gap: 12px;\n",
              "    }\n",
              "\n",
              "    .colab-df-convert {\n",
              "      background-color: #E8F0FE;\n",
              "      border: none;\n",
              "      border-radius: 50%;\n",
              "      cursor: pointer;\n",
              "      display: none;\n",
              "      fill: #1967D2;\n",
              "      height: 32px;\n",
              "      padding: 0 0 0 0;\n",
              "      width: 32px;\n",
              "    }\n",
              "\n",
              "    .colab-df-convert:hover {\n",
              "      background-color: #E2EBFA;\n",
              "      box-shadow: 0px 1px 2px rgba(60, 64, 67, 0.3), 0px 1px 3px 1px rgba(60, 64, 67, 0.15);\n",
              "      fill: #174EA6;\n",
              "    }\n",
              "\n",
              "    [theme=dark] .colab-df-convert {\n",
              "      background-color: #3B4455;\n",
              "      fill: #D2E3FC;\n",
              "    }\n",
              "\n",
              "    [theme=dark] .colab-df-convert:hover {\n",
              "      background-color: #434B5C;\n",
              "      box-shadow: 0px 1px 3px 1px rgba(0, 0, 0, 0.15);\n",
              "      filter: drop-shadow(0px 1px 2px rgba(0, 0, 0, 0.3));\n",
              "      fill: #FFFFFF;\n",
              "    }\n",
              "  </style>\n",
              "\n",
              "      <script>\n",
              "        const buttonEl =\n",
              "          document.querySelector('#df-d115c6a2-1115-4799-8102-0a1b3b241c7a button.colab-df-convert');\n",
              "        buttonEl.style.display =\n",
              "          google.colab.kernel.accessAllowed ? 'block' : 'none';\n",
              "\n",
              "        async function convertToInteractive(key) {\n",
              "          const element = document.querySelector('#df-d115c6a2-1115-4799-8102-0a1b3b241c7a');\n",
              "          const dataTable =\n",
              "            await google.colab.kernel.invokeFunction('convertToInteractive',\n",
              "                                                     [key], {});\n",
              "          if (!dataTable) return;\n",
              "\n",
              "          const docLinkHtml = 'Like what you see? Visit the ' +\n",
              "            '<a target=\"_blank\" href=https://colab.research.google.com/notebooks/data_table.ipynb>data table notebook</a>'\n",
              "            + ' to learn more about interactive tables.';\n",
              "          element.innerHTML = '';\n",
              "          dataTable['output_type'] = 'display_data';\n",
              "          await google.colab.output.renderOutput(dataTable, element);\n",
              "          const docLink = document.createElement('div');\n",
              "          docLink.innerHTML = docLinkHtml;\n",
              "          element.appendChild(docLink);\n",
              "        }\n",
              "      </script>\n",
              "    </div>\n",
              "  </div>\n",
              "  "
            ]
          },
          "metadata": {},
          "execution_count": 3
        }
      ]
    },
    {
      "cell_type": "code",
      "source": [
        "#data exploration\n",
        "df.shape"
      ],
      "metadata": {
        "colab": {
          "base_uri": "https://localhost:8080/"
        },
        "id": "VrjkWiSrVCsL",
        "outputId": "7a43ce5c-159b-430f-bdf6-a9e1ea13320d"
      },
      "execution_count": null,
      "outputs": [
        {
          "output_type": "execute_result",
          "data": {
            "text/plain": [
              "(2057, 51)"
            ]
          },
          "metadata": {},
          "execution_count": 4
        }
      ]
    },
    {
      "cell_type": "code",
      "source": [
        "df.isna().sum()"
      ],
      "metadata": {
        "colab": {
          "base_uri": "https://localhost:8080/"
        },
        "id": "ZKaRWMaaVxsM",
        "outputId": "538b6e2d-84ed-4f9a-bcf7-6fead9264fa0"
      },
      "execution_count": null,
      "outputs": [
        {
          "output_type": "execute_result",
          "data": {
            "text/plain": [
              "lead_id                  0\n",
              "name                     0\n",
              "email                    0\n",
              "user_id                  0\n",
              "date_of_birth         2057\n",
              "experience            2057\n",
              "functional_area       2057\n",
              "year_passing          2057\n",
              "10th_year             2057\n",
              "12th_year             2057\n",
              "10th_perc             2057\n",
              "12th_perc             2057\n",
              "organisation          2057\n",
              "specialisation        2057\n",
              "year_interested_in    2057\n",
              "course_id                0\n",
              "stream                  18\n",
              "sub_stream            2057\n",
              "action                   0\n",
              "college_id            1673\n",
              "exam_id               2057\n",
              "course_type           2057\n",
              "level                  106\n",
              "mode                     0\n",
              "state                    0\n",
              "city                     0\n",
              "city_id                  0\n",
              "location              2057\n",
              "channel               2057\n",
              "campaign              2057\n",
              "source                   0\n",
              "is_mobile_verified       0\n",
              "is_deleted               0\n",
              "deleted_on            2057\n",
              "created_on               0\n",
              "stream_id               18\n",
              "sub_stream_id         2057\n",
              "course_tag              57\n",
              "referrer                 0\n",
              "study_abroad             0\n",
              "loan_assistance          0\n",
              "ip                       0\n",
              "from_page                6\n",
              "location_on_page      1902\n",
              "country                272\n",
              "location_from_ip         0\n",
              "single_course_id      1262\n",
              "lead_type                0\n",
              "updated_on               0\n",
              "country_code             0\n",
              "sa_lead_id            2041\n",
              "dtype: int64"
            ]
          },
          "metadata": {},
          "execution_count": 5
        }
      ]
    },
    {
      "cell_type": "code",
      "source": [
        "df.info()"
      ],
      "metadata": {
        "colab": {
          "base_uri": "https://localhost:8080/"
        },
        "id": "5qQq3BsmVxuN",
        "outputId": "cffd1a8b-75eb-4b4a-ddf0-91fe8e63d8c2"
      },
      "execution_count": null,
      "outputs": [
        {
          "output_type": "stream",
          "name": "stdout",
          "text": [
            "<class 'pandas.core.frame.DataFrame'>\n",
            "RangeIndex: 2057 entries, 0 to 2056\n",
            "Data columns (total 51 columns):\n",
            " #   Column              Non-Null Count  Dtype  \n",
            "---  ------              --------------  -----  \n",
            " 0   lead_id             2057 non-null   int64  \n",
            " 1   name                2057 non-null   object \n",
            " 2   email               2057 non-null   object \n",
            " 3   user_id             2057 non-null   int64  \n",
            " 4   date_of_birth       0 non-null      float64\n",
            " 5   experience          0 non-null      float64\n",
            " 6   functional_area     0 non-null      float64\n",
            " 7   year_passing        0 non-null      float64\n",
            " 8   10th_year           0 non-null      float64\n",
            " 9   12th_year           0 non-null      float64\n",
            " 10  10th_perc           0 non-null      float64\n",
            " 11  12th_perc           0 non-null      float64\n",
            " 12  organisation        0 non-null      float64\n",
            " 13  specialisation      0 non-null      float64\n",
            " 14  year_interested_in  0 non-null      float64\n",
            " 15  course_id           2057 non-null   int64  \n",
            " 16  stream              2039 non-null   object \n",
            " 17  sub_stream          0 non-null      float64\n",
            " 18  action              2057 non-null   object \n",
            " 19  college_id          384 non-null    float64\n",
            " 20  exam_id             0 non-null      float64\n",
            " 21  course_type         0 non-null      float64\n",
            " 22  level               1951 non-null   object \n",
            " 23  mode                2057 non-null   object \n",
            " 24  state               2057 non-null   object \n",
            " 25  city                2057 non-null   object \n",
            " 26  city_id             2057 non-null   int64  \n",
            " 27  location            0 non-null      float64\n",
            " 28  channel             0 non-null      float64\n",
            " 29  campaign            0 non-null      float64\n",
            " 30  source              2057 non-null   object \n",
            " 31  is_mobile_verified  2057 non-null   int64  \n",
            " 32  is_deleted          2057 non-null   int64  \n",
            " 33  deleted_on          0 non-null      float64\n",
            " 34  created_on          2057 non-null   object \n",
            " 35  stream_id           2039 non-null   float64\n",
            " 36  sub_stream_id       0 non-null      float64\n",
            " 37  course_tag          2000 non-null   object \n",
            " 38  referrer            2057 non-null   object \n",
            " 39  study_abroad        2057 non-null   int64  \n",
            " 40  loan_assistance     2057 non-null   int64  \n",
            " 41  ip                  2057 non-null   object \n",
            " 42  from_page           2051 non-null   object \n",
            " 43  location_on_page    155 non-null    object \n",
            " 44  country             1785 non-null   float64\n",
            " 45  location_from_ip    2057 non-null   int64  \n",
            " 46  single_course_id    795 non-null    float64\n",
            " 47  lead_type           2057 non-null   int64  \n",
            " 48  updated_on          2057 non-null   object \n",
            " 49  country_code        2057 non-null   int64  \n",
            " 50  sa_lead_id          16 non-null     float64\n",
            "dtypes: float64(24), int64(11), object(16)\n",
            "memory usage: 819.7+ KB\n"
          ]
        }
      ]
    },
    {
      "cell_type": "code",
      "source": [
        "from pandas._libs.hashtable import value_count"
      ],
      "metadata": {
        "id": "6bt9SUGSVxxk"
      },
      "execution_count": null,
      "outputs": []
    },
    {
      "cell_type": "code",
      "source": [
        "df['state'].value_counts().plot(kind='bar')"
      ],
      "metadata": {
        "colab": {
          "base_uri": "https://localhost:8080/",
          "height": 423
        },
        "id": "2HKe7NuWWzn5",
        "outputId": "4467c05b-0f4b-4212-f53f-79608a843eba"
      },
      "execution_count": null,
      "outputs": [
        {
          "output_type": "execute_result",
          "data": {
            "text/plain": [
              "<matplotlib.axes._subplots.AxesSubplot at 0x7fc0080b1750>"
            ]
          },
          "metadata": {},
          "execution_count": 8
        },
        {
          "output_type": "display_data",
          "data": {
            "text/plain": [
              "<Figure size 432x288 with 1 Axes>"
            ],
            "image/png": "[encoded data removed]"
          },
          "metadata": {
            "needs_background": "light"
          }
        }
      ]
    },
    {
      "cell_type": "code",
      "source": [
        "data=df['city'].value_counts()"
      ],
      "metadata": {
        "id": "2qF_6HjWYzYS"
      },
      "execution_count": null,
      "outputs": []
    },
    {
      "cell_type": "code",
      "source": [
        "data"
      ],
      "metadata": {
        "colab": {
          "base_uri": "https://localhost:8080/"
        },
        "id": "JfE3O7QCZKb4",
        "outputId": "ff5c5515-7568-4af5-c2e8-2d7457755b5e"
      },
      "execution_count": null,
      "outputs": [
        {
          "output_type": "execute_result",
          "data": {
            "text/plain": [
              "Mumbai        171\n",
              "Bangalore     157\n",
              "New Delhi     138\n",
              "Chennai        71\n",
              "Kolkata        69\n",
              "             ... \n",
              "Shegaon         1\n",
              "Mannargudi      1\n",
              "Kolar           1\n",
              "Bidar           1\n",
              "Burwan          1\n",
              "Name: city, Length: 354, dtype: int64"
            ]
          },
          "metadata": {},
          "execution_count": 10
        }
      ]
    },
    {
      "cell_type": "code",
      "source": [
        "cities=pd.DataFrame(data)\n"
      ],
      "metadata": {
        "id": "By57DOj2Xee4"
      },
      "execution_count": null,
      "outputs": []
    },
    {
      "cell_type": "code",
      "source": [
        "cities"
      ],
      "metadata": {
        "colab": {
          "base_uri": "https://localhost:8080/",
          "height": 423
        },
        "id": "_7r-sjpVWzqW",
        "outputId": "062ab9f7-9311-4361-a9a6-8cf9eea03355"
      },
      "execution_count": null,
      "outputs": [
        {
          "output_type": "execute_result",
          "data": {
            "text/plain": [
              "            city\n",
              "Mumbai       171\n",
              "Bangalore    157\n",
              "New Delhi    138\n",
              "Chennai       71\n",
              "Kolkata       69\n",
              "...          ...\n",
              "Shegaon        1\n",
              "Mannargudi     1\n",
              "Kolar          1\n",
              "Bidar          1\n",
              "Burwan         1\n",
              "\n",
              "[354 rows x 1 columns]"
            ],
            "text/html": [
              "\n",
              "  <div id=\"df-02d9dd46-5c89-4e8b-a2bf-738e80ba0428\">\n",
              "    <div class=\"colab-df-container\">\n",
              "      <div>\n",
              "<style scoped>\n",
              "    .dataframe tbody tr th:only-of-type {\n",
              "        vertical-align: middle;\n",
              "    }\n",
              "\n",
              "    .dataframe tbody tr th {\n",
              "        vertical-align: top;\n",
              "    }\n",
              "\n",
              "    .dataframe thead th {\n",
              "        text-align: right;\n",
              "    }\n",
              "</style>\n",
              "<table border=\"1\" class=\"dataframe\">\n",
              "  <thead>\n",
              "    <tr style=\"text-align: right;\">\n",
              "      <th></th>\n",
              "      <th>city</th>\n",
              "    </tr>\n",
              "  </thead>\n",
              "  <tbody>\n",
              "    <tr>\n",
              "      <th>Mumbai</th>\n",
              "      <td>171</td>\n",
              "    </tr>\n",
              "    <tr>\n",
              "      <th>Bangalore</th>\n",
              "      <td>157</td>\n",
              "    </tr>\n",
              "    <tr>\n",
              "      <th>New Delhi</th>\n",
              "      <td>138</td>\n",
              "    </tr>\n",
              "    <tr>\n",
              "      <th>Chennai</th>\n",
              "      <td>71</td>\n",
              "    </tr>\n",
              "    <tr>\n",
              "      <th>Kolkata</th>\n",
              "      <td>69</td>\n",
              "    </tr>\n",
              "    <tr>\n",
              "      <th>...</th>\n",
              "      <td>...</td>\n",
              "    </tr>\n",
              "    <tr>\n",
              "      <th>Shegaon</th>\n",
              "      <td>1</td>\n",
              "    </tr>\n",
              "    <tr>\n",
              "      <th>Mannargudi</th>\n",
              "      <td>1</td>\n",
              "    </tr>\n",
              "    <tr>\n",
              "      <th>Kolar</th>\n",
              "      <td>1</td>\n",
              "    </tr>\n",
              "    <tr>\n",
              "      <th>Bidar</th>\n",
              "      <td>1</td>\n",
              "    </tr>\n",
              "    <tr>\n",
              "      <th>Burwan</th>\n",
              "      <td>1</td>\n",
              "    </tr>\n",
              "  </tbody>\n",
              "</table>\n",
              "<p>354 rows × 1 columns</p>\n",
              "</div>\n",
              "      <button class=\"colab-df-convert\" onclick=\"convertToInteractive('df-02d9dd46-5c89-4e8b-a2bf-738e80ba0428')\"\n",
              "              title=\"Convert this dataframe to an interactive table.\"\n",
              "              style=\"display:none;\">\n",
              "        \n",
              "  <svg xmlns=\"http://www.w3.org/2000/svg\" height=\"24px\"viewBox=\"0 0 24 24\"\n",
              "       width=\"24px\">\n",
              "    <path d=\"M0 0h24v24H0V0z\" fill=\"none\"/>\n",
              "    <path d=\"M18.56 5.44l.94 2.06.94-2.06 2.06-.94-2.06-.94-.94-2.06-.94 2.06-2.06.94zm-11 1L8.5 8.5l.94-2.06 2.06-.94-2.06-.94L8.5 2.5l-.94 2.06-2.06.94zm10 10l.94 2.06.94-2.06 2.06-.94-2.06-.94-.94-2.06-.94 2.06-2.06.94z\"/><path d=\"M17.41 7.96l-1.37-1.37c-.4-.4-.92-.59-1.43-.59-.52 0-1.04.2-1.43.59L10.3 9.45l-7.72 7.72c-.78.78-.78 2.05 0 2.83L4 21.41c.39.39.9.59 1.41.59.51 0 1.02-.2 1.41-.59l7.78-7.78 2.81-2.81c.8-.78.8-2.07 0-2.86zM5.41 20L4 18.59l7.72-7.72 1.47 1.35L5.41 20z\"/>\n",
              "  </svg>\n",
              "      </button>\n",
              "      \n",
              "  <style>\n",
              "    .colab-df-container {\n",
              "      display:flex;\n",
              "      flex-wrap:wrap;\n",
              "      gap: 12px;\n",
              "    }\n",
              "\n",
              "    .colab-df-convert {\n",
              "      background-color: #E8F0FE;\n",
              "      border: none;\n",
              "      border-radius: 50%;\n",
              "      cursor: pointer;\n",
              "      display: none;\n",
              "      fill: #1967D2;\n",
              "      height: 32px;\n",
              "      padding: 0 0 0 0;\n",
              "      width: 32px;\n",
              "    }\n",
              "\n",
              "    .colab-df-convert:hover {\n",
              "      background-color: #E2EBFA;\n",
              "      box-shadow: 0px 1px 2px rgba(60, 64, 67, 0.3), 0px 1px 3px 1px rgba(60, 64, 67, 0.15);\n",
              "      fill: #174EA6;\n",
              "    }\n",
              "\n",
              "    [theme=dark] .colab-df-convert {\n",
              "      background-color: #3B4455;\n",
              "      fill: #D2E3FC;\n",
              "    }\n",
              "\n",
              "    [theme=dark] .colab-df-convert:hover {\n",
              "      background-color: #434B5C;\n",
              "      box-shadow: 0px 1px 3px 1px rgba(0, 0, 0, 0.15);\n",
              "      filter: drop-shadow(0px 1px 2px rgba(0, 0, 0, 0.3));\n",
              "      fill: #FFFFFF;\n",
              "    }\n",
              "  </style>\n",
              "\n",
              "      <script>\n",
              "        const buttonEl =\n",
              "          document.querySelector('#df-02d9dd46-5c89-4e8b-a2bf-738e80ba0428 button.colab-df-convert');\n",
              "        buttonEl.style.display =\n",
              "          google.colab.kernel.accessAllowed ? 'block' : 'none';\n",
              "\n",
              "        async function convertToInteractive(key) {\n",
              "          const element = document.querySelector('#df-02d9dd46-5c89-4e8b-a2bf-738e80ba0428');\n",
              "          const dataTable =\n",
              "            await google.colab.kernel.invokeFunction('convertToInteractive',\n",
              "                                                     [key], {});\n",
              "          if (!dataTable) return;\n",
              "\n",
              "          const docLinkHtml = 'Like what you see? Visit the ' +\n",
              "            '<a target=\"_blank\" href=https://colab.research.google.com/notebooks/data_table.ipynb>data table notebook</a>'\n",
              "            + ' to learn more about interactive tables.';\n",
              "          element.innerHTML = '';\n",
              "          dataTable['output_type'] = 'display_data';\n",
              "          await google.colab.output.renderOutput(dataTable, element);\n",
              "          const docLink = document.createElement('div');\n",
              "          docLink.innerHTML = docLinkHtml;\n",
              "          element.appendChild(docLink);\n",
              "        }\n",
              "      </script>\n",
              "    </div>\n",
              "  </div>\n",
              "  "
            ]
          },
          "metadata": {},
          "execution_count": 12
        }
      ]
    },
    {
      "cell_type": "code",
      "source": [
        "file_name = 'MarksData.xlsx'"
      ],
      "metadata": {
        "id": "Q40ZiXOXdGlW"
      },
      "execution_count": null,
      "outputs": []
    },
    {
      "cell_type": "code",
      "source": [
        "cities.to_excel(file_name)"
      ],
      "metadata": {
        "id": "JpSOvQmiWzuI"
      },
      "execution_count": null,
      "outputs": []
    },
    {
      "cell_type": "code",
      "source": [
        "df['stream'].value_counts().plot(kind='bar')"
      ],
      "metadata": {
        "colab": {
          "base_uri": "https://localhost:8080/",
          "height": 387
        },
        "id": "pzKtwKp_WzxF",
        "outputId": "0a5373dc-f59f-4d71-8c47-62c1c09aaf45"
      },
      "execution_count": null,
      "outputs": [
        {
          "output_type": "execute_result",
          "data": {
            "text/plain": [
              "<matplotlib.axes._subplots.AxesSubplot at 0x7fc006ae3f50>"
            ]
          },
          "metadata": {},
          "execution_count": 15
        },
        {
          "output_type": "display_data",
          "data": {
            "text/plain": [
              "<Figure size 432x288 with 1 Axes>"
            ],
            "image/png": "[encoded data removed]"
          },
          "metadata": {
            "needs_background": "light"
          }
        }
      ]
    },
    {
      "cell_type": "code",
      "source": [
        "# creating bool series True for NaN values\n",
        "bool_series = pd.isnull(df[\"stream\"])\n",
        "   \n",
        "# filtering data\n",
        "stream_miss=df[bool_series]"
      ],
      "metadata": {
        "id": "8EnJybwzWzz3"
      },
      "execution_count": null,
      "outputs": []
    },
    {
      "cell_type": "code",
      "source": [
        "file_name = 'stream_miss.xlsx'\n",
        "stream_miss.to_excel(file_name)\n",
        "\n"
      ],
      "metadata": {
        "id": "YU6JzAc0Vx0V"
      },
      "execution_count": null,
      "outputs": []
    },
    {
      "cell_type": "code",
      "source": [
        "print(df.nunique(axis=0))"
      ],
      "metadata": {
        "colab": {
          "base_uri": "https://localhost:8080/"
        },
        "id": "jDtB90_PVx2R",
        "outputId": "980cd8fe-6fcd-4113-8663-c6bc603c6602"
      },
      "execution_count": null,
      "outputs": [
        {
          "output_type": "stream",
          "name": "stdout",
          "text": [
            "lead_id               2057\n",
            "name                  1289\n",
            "email                 1290\n",
            "user_id               1294\n",
            "date_of_birth            0\n",
            "experience               0\n",
            "functional_area          0\n",
            "year_passing             0\n",
            "10th_year                0\n",
            "12th_year                0\n",
            "10th_perc                0\n",
            "12th_perc                0\n",
            "organisation             0\n",
            "specialisation           0\n",
            "year_interested_in       0\n",
            "course_id               70\n",
            "stream                  19\n",
            "sub_stream               0\n",
            "action                   9\n",
            "college_id             140\n",
            "exam_id                  0\n",
            "course_type              0\n",
            "level                    2\n",
            "mode                     2\n",
            "state                   33\n",
            "city                   354\n",
            "city_id                358\n",
            "location                 0\n",
            "channel                  0\n",
            "campaign                 0\n",
            "source                   4\n",
            "is_mobile_verified       1\n",
            "is_deleted               1\n",
            "deleted_on               0\n",
            "created_on            1861\n",
            "stream_id               19\n",
            "sub_stream_id            0\n",
            "course_tag              70\n",
            "referrer                98\n",
            "study_abroad             1\n",
            "loan_assistance          1\n",
            "ip                    1443\n",
            "from_page               27\n",
            "location_on_page        11\n",
            "country                  1\n",
            "location_from_ip         1\n",
            "single_course_id         8\n",
            "lead_type                4\n",
            "updated_on            1858\n",
            "country_code             1\n",
            "sa_lead_id              13\n",
            "dtype: int64\n"
          ]
        }
      ]
    },
    {
      "cell_type": "code",
      "source": [
        "df1=pd.read_csv('collegedunia_data.csv')"
      ],
      "metadata": {
        "id": "KtqmhNCpVx4J"
      },
      "execution_count": null,
      "outputs": []
    },
    {
      "cell_type": "code",
      "source": [
        "df1.shape"
      ],
      "metadata": {
        "colab": {
          "base_uri": "https://localhost:8080/"
        },
        "id": "Z_S5Y5C7p1Gh",
        "outputId": "d5c3ded3-4cc7-4941-e59a-b4afc0878ed9"
      },
      "execution_count": null,
      "outputs": [
        {
          "output_type": "execute_result",
          "data": {
            "text/plain": [
              "(2057, 32)"
            ]
          },
          "metadata": {},
          "execution_count": 20
        }
      ]
    },
    {
      "cell_type": "code",
      "source": [
        "print(df1.nunique(axis=0))"
      ],
      "metadata": {
        "id": "8cLT00qEoMa-",
        "outputId": "d0269554-a69e-4d89-c0c6-6819da57c122",
        "colab": {
          "base_uri": "https://localhost:8080/"
        }
      },
      "execution_count": null,
      "outputs": [
        {
          "output_type": "stream",
          "name": "stdout",
          "text": [
            "lead_id               2057\n",
            "name                  1289\n",
            "email                 1290\n",
            "user_id               1294\n",
            "course_id               70\n",
            "stream                  19\n",
            "action                   9\n",
            "college_id             140\n",
            "level                    2\n",
            "mode                     2\n",
            "state                   33\n",
            "city                   354\n",
            "city_id                358\n",
            "source                   4\n",
            "is_mobile_verified       1\n",
            "is_deleted               1\n",
            "created_on            1861\n",
            "stream_id               19\n",
            "course_tag              71\n",
            "referrer                98\n",
            "study_abroad             1\n",
            "loan_assistance          1\n",
            "ip                    1443\n",
            "from_page               27\n",
            "location_on_page        11\n",
            "country                  1\n",
            "location_from_ip         1\n",
            "single_course_id         8\n",
            "lead_type                4\n",
            "updated_on            1858\n",
            "country_code             1\n",
            "sa_lead_id              13\n",
            "dtype: int64\n"
          ]
        }
      ]
    },
    {
      "cell_type": "code",
      "source": [
        "df1.isna().sum()"
      ],
      "metadata": {
        "colab": {
          "base_uri": "https://localhost:8080/"
        },
        "id": "FbLMexT9p1KY",
        "outputId": "34d67c8e-ed43-4ed8-956c-86665e2c1810"
      },
      "execution_count": null,
      "outputs": [
        {
          "output_type": "execute_result",
          "data": {
            "text/plain": [
              "lead_id                0\n",
              "name                   0\n",
              "email                  0\n",
              "user_id                0\n",
              "course_id              0\n",
              "stream                18\n",
              "action                 0\n",
              "college_id             0\n",
              "level                  0\n",
              "mode                   0\n",
              "state                  0\n",
              "city                   0\n",
              "city_id                0\n",
              "source                 0\n",
              "is_mobile_verified     0\n",
              "is_deleted             0\n",
              "created_on             0\n",
              "stream_id              0\n",
              "course_tag             0\n",
              "referrer               0\n",
              "study_abroad           0\n",
              "loan_assistance        0\n",
              "ip                     0\n",
              "from_page              6\n",
              "location_on_page       0\n",
              "country                0\n",
              "location_from_ip       0\n",
              "single_course_id       0\n",
              "lead_type              0\n",
              "updated_on             0\n",
              "country_code           0\n",
              "sa_lead_id             0\n",
              "dtype: int64"
            ]
          },
          "metadata": {},
          "execution_count": 55
        }
      ]
    },
    {
      "cell_type": "code",
      "source": [
        "df1['single_course_id'].value_counts()"
      ],
      "metadata": {
        "colab": {
          "base_uri": "https://localhost:8080/"
        },
        "id": "AId27BJHN89F",
        "outputId": "66e03dad-8997-4a77-b5f8-f8e6e651b824"
      },
      "execution_count": null,
      "outputs": [
        {
          "output_type": "execute_result",
          "data": {
            "text/plain": [
              "5718.0    299\n",
              "5721.0    214\n",
              "1328.0    117\n",
              "5740.0     90\n",
              "5742.0     48\n",
              "5724.0     25\n",
              "5779.0      1\n",
              "1392.0      1\n",
              "Name: single_course_id, dtype: int64"
            ]
          },
          "metadata": {},
          "execution_count": 41
        }
      ]
    },
    {
      "cell_type": "code",
      "source": [
        "df1['sa_lead_id'].value_counts()"
      ],
      "metadata": {
        "colab": {
          "base_uri": "https://localhost:8080/"
        },
        "id": "p5H7HyyHUTYE",
        "outputId": "aef48cad-f490-4414-89b3-59f41cd47c18"
      },
      "execution_count": null,
      "outputs": [
        {
          "output_type": "execute_result",
          "data": {
            "text/plain": [
              "660724.0    2\n",
              "651125.0    2\n",
              "695989.0    2\n",
              "601451.0    1\n",
              "613927.0    1\n",
              "602442.0    1\n",
              "695116.0    1\n",
              "675695.0    1\n",
              "724912.0    1\n",
              "673222.0    1\n",
              "727101.0    1\n",
              "707732.0    1\n",
              "664102.0    1\n",
              "Name: sa_lead_id, dtype: int64"
            ]
          },
          "metadata": {},
          "execution_count": 43
        }
      ]
    },
    {
      "cell_type": "code",
      "source": [
        "df1['stream_id'].value_counts()"
      ],
      "metadata": {
        "colab": {
          "base_uri": "https://localhost:8080/"
        },
        "id": "VKVCiLHxSil6",
        "outputId": "a69dbbc1-02ef-4a43-dde1-fc1d546be4bc"
      },
      "execution_count": null,
      "outputs": [
        {
          "output_type": "execute_result",
          "data": {
            "text/plain": [
              "4.0     1083\n",
              "13.0     313\n",
              "18.0     146\n",
              "10.0     105\n",
              "3.0       90\n",
              "6.0       53\n",
              "5.0       49\n",
              "15.0      48\n",
              "11.0      29\n",
              "17.0      21\n",
              "16.0      20\n",
              "12.0      17\n",
              "9.0       15\n",
              "1.0       14\n",
              "8.0       13\n",
              "7.0        8\n",
              "14.0       7\n",
              "19.0       4\n",
              "2.0        4\n",
              "Name: stream_id, dtype: int64"
            ]
          },
          "metadata": {},
          "execution_count": 45
        }
      ]
    },
    {
      "cell_type": "code",
      "source": [
        "df1['college_id'].value_counts()"
      ],
      "metadata": {
        "colab": {
          "base_uri": "https://localhost:8080/"
        },
        "id": "O23PhD5jYWbG",
        "outputId": "74729b33-c3ed-4260-a554-a10b6e5e96eb"
      },
      "execution_count": null,
      "outputs": [
        {
          "output_type": "execute_result",
          "data": {
            "text/plain": [
              "25731.0    33\n",
              "28190.0    22\n",
              "56991.0    11\n",
              "25460.0    11\n",
              "7202.0     10\n",
              "           ..\n",
              "62882.0     1\n",
              "63120.0     1\n",
              "63156.0     1\n",
              "63239.0     1\n",
              "1153.0      1\n",
              "Name: college_id, Length: 140, dtype: int64"
            ]
          },
          "metadata": {},
          "execution_count": 50
        }
      ]
    },
    {
      "cell_type": "code",
      "source": [
        "df1['course_tag'].value_counts().plot(kind='bar',figsize=(20,6))"
      ],
      "metadata": {
        "colab": {
          "base_uri": "https://localhost:8080/",
          "height": 553
        },
        "id": "RzWXWB2COn83",
        "outputId": "ca951349-72ba-41a5-e1fc-e64486b29b61"
      },
      "execution_count": null,
      "outputs": [
        {
          "output_type": "execute_result",
          "data": {
            "text/plain": [
              "<matplotlib.axes._subplots.AxesSubplot at 0x7fbffc9a40d0>"
            ]
          },
          "metadata": {},
          "execution_count": 48
        },
        {
          "output_type": "display_data",
          "data": {
            "text/plain": [
              "<Figure size 1440x432 with 1 Axes>"
            ],
            "image/png": "[encoded data removed]"
          },
          "metadata": {
            "needs_background": "light"
          }
        }
      ]
    },
    {
      "cell_type": "code",
      "source": [
        "df1['location_on_page'].fillna('Apply_S1 ')"
      ],
      "metadata": {
        "colab": {
          "base_uri": "https://localhost:8080/"
        },
        "id": "HviTpFB8OGGE",
        "outputId": "aa49a776-2fa3-4421-d68e-151201d439e8"
      },
      "execution_count": null,
      "outputs": [
        {
          "output_type": "execute_result",
          "data": {
            "text/plain": [
              "0       Apply_S1 \n",
              "1       Apply_S1 \n",
              "2       Apply_S1 \n",
              "3       Apply_S1 \n",
              "4       Apply_S1 \n",
              "          ...    \n",
              "2052    Apply_S1 \n",
              "2053    Apply_S1 \n",
              "2054    Apply_S1 \n",
              "2055    Apply_S1 \n",
              "2056    Apply_S1 \n",
              "Name: location_on_page, Length: 2057, dtype: object"
            ]
          },
          "metadata": {},
          "execution_count": 39
        }
      ]
    },
    {
      "cell_type": "code",
      "source": [
        "df1.isna().sum()"
      ],
      "metadata": {
        "colab": {
          "base_uri": "https://localhost:8080/"
        },
        "id": "pmkSh-wMOysq",
        "outputId": "bdabc28f-29ec-4780-8c16-d6941214ca72"
      },
      "execution_count": null,
      "outputs": [
        {
          "output_type": "execute_result",
          "data": {
            "text/plain": [
              "lead_id                  0\n",
              "name                     0\n",
              "email                    0\n",
              "user_id                  0\n",
              "course_id                0\n",
              "stream                  18\n",
              "action                   0\n",
              "college_id            1673\n",
              "level                  106\n",
              "mode                     0\n",
              "state                    0\n",
              "city                     0\n",
              "city_id                  0\n",
              "source                   0\n",
              "is_mobile_verified       0\n",
              "is_deleted               0\n",
              "created_on               0\n",
              "stream_id               18\n",
              "course_tag              57\n",
              "referrer                 0\n",
              "study_abroad             0\n",
              "loan_assistance          0\n",
              "ip                       0\n",
              "from_page                6\n",
              "location_on_page      1902\n",
              "country                  0\n",
              "location_from_ip         0\n",
              "single_course_id      1262\n",
              "lead_type                0\n",
              "updated_on               0\n",
              "country_code             0\n",
              "sa_lead_id            2041\n",
              "dtype: int64"
            ]
          },
          "metadata": {},
          "execution_count": 38
        }
      ]
    },
    {
      "cell_type": "code",
      "source": [
        "df1['mode'].value_counts().plot(kind='bar')"
      ],
      "metadata": {
        "colab": {
          "base_uri": "https://localhost:8080/",
          "height": 318
        },
        "id": "_nEn8Vm2p1NS",
        "outputId": "1ef9e002-0f8c-405b-e723-2ff07b22c5ea"
      },
      "execution_count": null,
      "outputs": [
        {
          "output_type": "execute_result",
          "data": {
            "text/plain": [
              "<matplotlib.axes._subplots.AxesSubplot at 0x7fc00695c490>"
            ]
          },
          "metadata": {},
          "execution_count": 23
        },
        {
          "output_type": "display_data",
          "data": {
            "text/plain": [
              "<Figure size 432x288 with 1 Axes>"
            ],
            "image/png": "[encoded data removed]"
          },
          "metadata": {
            "needs_background": "light"
          }
        }
      ]
    },
    {
      "cell_type": "code",
      "source": [
        "df1['level'].value_counts().plot(kind='bar')"
      ],
      "metadata": {
        "colab": {
          "base_uri": "https://localhost:8080/",
          "height": 353
        },
        "id": "EJErbDZrp1QY",
        "outputId": "6d974bd8-ebe1-4d79-8e15-c673c5d3d6e5"
      },
      "execution_count": null,
      "outputs": [
        {
          "output_type": "execute_result",
          "data": {
            "text/plain": [
              "<matplotlib.axes._subplots.AxesSubplot at 0x7fc006a76f90>"
            ]
          },
          "metadata": {},
          "execution_count": 24
        },
        {
          "output_type": "display_data",
          "data": {
            "text/plain": [
              "<Figure size 432x288 with 1 Axes>"
            ],
            "image/png": "[encoded data removed]"
          },
          "metadata": {
            "needs_background": "light"
          }
        }
      ]
    },
    {
      "cell_type": "code",
      "source": [
        "df1['source'].value_counts().plot(kind='pie')"
      ],
      "metadata": {
        "colab": {
          "base_uri": "https://localhost:8080/",
          "height": 266
        },
        "id": "ULnh5TZHvATp",
        "outputId": "af1ef0d3-35b4-4335-bbc8-5a4ba40d09b6"
      },
      "execution_count": null,
      "outputs": [
        {
          "output_type": "execute_result",
          "data": {
            "text/plain": [
              "<matplotlib.axes._subplots.AxesSubplot at 0x7fc006a80110>"
            ]
          },
          "metadata": {},
          "execution_count": 25
        },
        {
          "output_type": "display_data",
          "data": {
            "text/plain": [
              "<Figure size 432x288 with 1 Axes>"
            ],
            "image/png": "[encoded data removed]"
          },
          "metadata": {}
        }
      ]
    },
    {
      "cell_type": "code",
      "source": [
        "df_numerical = df1.select_dtypes(include='float64')"
      ],
      "metadata": {
        "id": "F8lNPvsR3jXR"
      },
      "execution_count": null,
      "outputs": []
    },
    {
      "cell_type": "code",
      "source": [
        "df_categorical = df1.select_dtypes(include='object')\n"
      ],
      "metadata": {
        "id": "ZAyFy-2J3jZr"
      },
      "execution_count": null,
      "outputs": []
    },
    {
      "cell_type": "code",
      "source": [
        "df_numerical"
      ],
      "metadata": {
        "colab": {
          "base_uri": "https://localhost:8080/",
          "height": 423
        },
        "id": "JNJnTxRA3jcH",
        "outputId": "f4ccf002-f940-4248-9822-d1aeaba41a78"
      },
      "execution_count": null,
      "outputs": [
        {
          "output_type": "execute_result",
          "data": {
            "text/plain": [
              "      college_id  stream_id  single_course_id  sa_lead_id\n",
              "0            NaN       10.0            5721.0         NaN\n",
              "1            NaN       18.0            5721.0         NaN\n",
              "2            NaN       10.0            5721.0         NaN\n",
              "3            NaN        4.0               NaN         NaN\n",
              "4            NaN       13.0            5718.0         NaN\n",
              "...          ...        ...               ...         ...\n",
              "2052         NaN       13.0               NaN         NaN\n",
              "2053         NaN        4.0               NaN         NaN\n",
              "2054         NaN       10.0               NaN         NaN\n",
              "2055         NaN        4.0               NaN         NaN\n",
              "2056         NaN        4.0            5718.0         NaN\n",
              "\n",
              "[2057 rows x 4 columns]"
            ],
            "text/html": [
              "\n",
              "  <div id=\"df-9cef4bbb-db9e-400c-9c6e-57b1f17f91db\">\n",
              "    <div class=\"colab-df-container\">\n",
              "      <div>\n",
              "<style scoped>\n",
              "    .dataframe tbody tr th:only-of-type {\n",
              "        vertical-align: middle;\n",
              "    }\n",
              "\n",
              "    .dataframe tbody tr th {\n",
              "        vertical-align: top;\n",
              "    }\n",
              "\n",
              "    .dataframe thead th {\n",
              "        text-align: right;\n",
              "    }\n",
              "</style>\n",
              "<table border=\"1\" class=\"dataframe\">\n",
              "  <thead>\n",
              "    <tr style=\"text-align: right;\">\n",
              "      <th></th>\n",
              "      <th>college_id</th>\n",
              "      <th>stream_id</th>\n",
              "      <th>single_course_id</th>\n",
              "      <th>sa_lead_id</th>\n",
              "    </tr>\n",
              "  </thead>\n",
              "  <tbody>\n",
              "    <tr>\n",
              "      <th>0</th>\n",
              "      <td>NaN</td>\n",
              "      <td>10.0</td>\n",
              "      <td>5721.0</td>\n",
              "      <td>NaN</td>\n",
              "    </tr>\n",
              "    <tr>\n",
              "      <th>1</th>\n",
              "      <td>NaN</td>\n",
              "      <td>18.0</td>\n",
              "      <td>5721.0</td>\n",
              "      <td>NaN</td>\n",
              "    </tr>\n",
              "    <tr>\n",
              "      <th>2</th>\n",
              "      <td>NaN</td>\n",
              "      <td>10.0</td>\n",
              "      <td>5721.0</td>\n",
              "      <td>NaN</td>\n",
              "    </tr>\n",
              "    <tr>\n",
              "      <th>3</th>\n",
              "      <td>NaN</td>\n",
              "      <td>4.0</td>\n",
              "      <td>NaN</td>\n",
              "      <td>NaN</td>\n",
              "    </tr>\n",
              "    <tr>\n",
              "      <th>4</th>\n",
              "      <td>NaN</td>\n",
              "      <td>13.0</td>\n",
              "      <td>5718.0</td>\n",
              "      <td>NaN</td>\n",
              "    </tr>\n",
              "    <tr>\n",
              "      <th>...</th>\n",
              "      <td>...</td>\n",
              "      <td>...</td>\n",
              "      <td>...</td>\n",
              "      <td>...</td>\n",
              "    </tr>\n",
              "    <tr>\n",
              "      <th>2052</th>\n",
              "      <td>NaN</td>\n",
              "      <td>13.0</td>\n",
              "      <td>NaN</td>\n",
              "      <td>NaN</td>\n",
              "    </tr>\n",
              "    <tr>\n",
              "      <th>2053</th>\n",
              "      <td>NaN</td>\n",
              "      <td>4.0</td>\n",
              "      <td>NaN</td>\n",
              "      <td>NaN</td>\n",
              "    </tr>\n",
              "    <tr>\n",
              "      <th>2054</th>\n",
              "      <td>NaN</td>\n",
              "      <td>10.0</td>\n",
              "      <td>NaN</td>\n",
              "      <td>NaN</td>\n",
              "    </tr>\n",
              "    <tr>\n",
              "      <th>2055</th>\n",
              "      <td>NaN</td>\n",
              "      <td>4.0</td>\n",
              "      <td>NaN</td>\n",
              "      <td>NaN</td>\n",
              "    </tr>\n",
              "    <tr>\n",
              "      <th>2056</th>\n",
              "      <td>NaN</td>\n",
              "      <td>4.0</td>\n",
              "      <td>5718.0</td>\n",
              "      <td>NaN</td>\n",
              "    </tr>\n",
              "  </tbody>\n",
              "</table>\n",
              "<p>2057 rows × 4 columns</p>\n",
              "</div>\n",
              "      <button class=\"colab-df-convert\" onclick=\"convertToInteractive('df-9cef4bbb-db9e-400c-9c6e-57b1f17f91db')\"\n",
              "              title=\"Convert this dataframe to an interactive table.\"\n",
              "              style=\"display:none;\">\n",
              "        \n",
              "  <svg xmlns=\"http://www.w3.org/2000/svg\" height=\"24px\"viewBox=\"0 0 24 24\"\n",
              "       width=\"24px\">\n",
              "    <path d=\"M0 0h24v24H0V0z\" fill=\"none\"/>\n",
              "    <path d=\"M18.56 5.44l.94 2.06.94-2.06 2.06-.94-2.06-.94-.94-2.06-.94 2.06-2.06.94zm-11 1L8.5 8.5l.94-2.06 2.06-.94-2.06-.94L8.5 2.5l-.94 2.06-2.06.94zm10 10l.94 2.06.94-2.06 2.06-.94-2.06-.94-.94-2.06-.94 2.06-2.06.94z\"/><path d=\"M17.41 7.96l-1.37-1.37c-.4-.4-.92-.59-1.43-.59-.52 0-1.04.2-1.43.59L10.3 9.45l-7.72 7.72c-.78.78-.78 2.05 0 2.83L4 21.41c.39.39.9.59 1.41.59.51 0 1.02-.2 1.41-.59l7.78-7.78 2.81-2.81c.8-.78.8-2.07 0-2.86zM5.41 20L4 18.59l7.72-7.72 1.47 1.35L5.41 20z\"/>\n",
              "  </svg>\n",
              "      </button>\n",
              "      \n",
              "  <style>\n",
              "    .colab-df-container {\n",
              "      display:flex;\n",
              "      flex-wrap:wrap;\n",
              "      gap: 12px;\n",
              "    }\n",
              "\n",
              "    .colab-df-convert {\n",
              "      background-color: #E8F0FE;\n",
              "      border: none;\n",
              "      border-radius: 50%;\n",
              "      cursor: pointer;\n",
              "      display: none;\n",
              "      fill: #1967D2;\n",
              "      height: 32px;\n",
              "      padding: 0 0 0 0;\n",
              "      width: 32px;\n",
              "    }\n",
              "\n",
              "    .colab-df-convert:hover {\n",
              "      background-color: #E2EBFA;\n",
              "      box-shadow: 0px 1px 2px rgba(60, 64, 67, 0.3), 0px 1px 3px 1px rgba(60, 64, 67, 0.15);\n",
              "      fill: #174EA6;\n",
              "    }\n",
              "\n",
              "    [theme=dark] .colab-df-convert {\n",
              "      background-color: #3B4455;\n",
              "      fill: #D2E3FC;\n",
              "    }\n",
              "\n",
              "    [theme=dark] .colab-df-convert:hover {\n",
              "      background-color: #434B5C;\n",
              "      box-shadow: 0px 1px 3px 1px rgba(0, 0, 0, 0.15);\n",
              "      filter: drop-shadow(0px 1px 2px rgba(0, 0, 0, 0.3));\n",
              "      fill: #FFFFFF;\n",
              "    }\n",
              "  </style>\n",
              "\n",
              "      <script>\n",
              "        const buttonEl =\n",
              "          document.querySelector('#df-9cef4bbb-db9e-400c-9c6e-57b1f17f91db button.colab-df-convert');\n",
              "        buttonEl.style.display =\n",
              "          google.colab.kernel.accessAllowed ? 'block' : 'none';\n",
              "\n",
              "        async function convertToInteractive(key) {\n",
              "          const element = document.querySelector('#df-9cef4bbb-db9e-400c-9c6e-57b1f17f91db');\n",
              "          const dataTable =\n",
              "            await google.colab.kernel.invokeFunction('convertToInteractive',\n",
              "                                                     [key], {});\n",
              "          if (!dataTable) return;\n",
              "\n",
              "          const docLinkHtml = 'Like what you see? Visit the ' +\n",
              "            '<a target=\"_blank\" href=https://colab.research.google.com/notebooks/data_table.ipynb>data table notebook</a>'\n",
              "            + ' to learn more about interactive tables.';\n",
              "          element.innerHTML = '';\n",
              "          dataTable['output_type'] = 'display_data';\n",
              "          await google.colab.output.renderOutput(dataTable, element);\n",
              "          const docLink = document.createElement('div');\n",
              "          docLink.innerHTML = docLinkHtml;\n",
              "          element.appendChild(docLink);\n",
              "        }\n",
              "      </script>\n",
              "    </div>\n",
              "  </div>\n",
              "  "
            ]
          },
          "metadata": {},
          "execution_count": 28
        }
      ]
    },
    {
      "cell_type": "code",
      "source": [
        "df_categorical"
      ],
      "metadata": {
        "colab": {
          "base_uri": "https://localhost:8080/",
          "height": 661
        },
        "id": "7cPJTo453jeY",
        "outputId": "83e36332-07a8-4db3-de8d-44d8760ba476"
      },
      "execution_count": null,
      "outputs": [
        {
          "output_type": "execute_result",
          "data": {
            "text/plain": [
              "                 name                         email       stream      action  \\\n",
              "0           Deva Arun          devatazmin@gmail.com  Engineering     Revisit   \n",
              "1        Naveed Shafi     naddunaveed1419@gmail.com      Science     Revisit   \n",
              "2             Sneha s  Jessieselvakumar26@gmail.com  Engineering     Revisit   \n",
              "3         Anjali Nair       anjalinairaps@gmail.com     Aviation  auto_popup   \n",
              "4     Shreyash Pratap           kps.hjp03@gmail.com   Management     Revisit   \n",
              "...               ...                           ...          ...         ...   \n",
              "2052     Srikant Rana       shrikantrana7@gmail.com   Management     Revisit   \n",
              "2053   Yogesh Jaiswal           yjaiswal3@gmail.com     Aviation     Revisit   \n",
              "2054  Sujal chowdhury    sujalchowdhury72@gmail.com  Engineering     Revisit   \n",
              "2055   Jessica Dhanak   reginaprincess504@gmail.com     Aviation     Revisit   \n",
              "2056   Niyorkona Bora          niyorkonab@gmail.com     Aviation     Revisit   \n",
              "\n",
              "                level       mode              state       city      source  \\\n",
              "0          Graduation  Full Time             Kerala  Ernakulam  Mobile Web   \n",
              "1          Graduation  Full Time  Jammu and Kashmir    Pulwama  Mobile Web   \n",
              "2          Graduation  Full Time         Tamil Nadu    Chennai  Mobile Web   \n",
              "3          Graduation  Full Time          Delhi NCR  New Delhi     Desktop   \n",
              "4          Graduation  Full Time              Bihar      Patna     Desktop   \n",
              "...               ...        ...                ...        ...         ...   \n",
              "2052  Post Graduation  Full Time        Maharashtra     Mumbai  Mobile Web   \n",
              "2053       Graduation  Full Time          Delhi NCR  New Delhi  Mobile Web   \n",
              "2054       Graduation  Full Time        West Bengal    Kolkata  Mobile Web   \n",
              "2055       Graduation  Full Time            Gujarat     Rajkot  Mobile Web   \n",
              "2056       Graduation  Full Time              Assam   Guwahati  Mobile Web   \n",
              "\n",
              "          created_on      course_tag  \\\n",
              "0      01/03/22 8:17       BE/B.Tech   \n",
              "1     01/03/22 10:26            B.Sc   \n",
              "2     01/03/22 10:43       BE/B.Tech   \n",
              "3     01/03/22 11:15  BBA (Aviation)   \n",
              "4     01/03/22 11:27         BBA/BBM   \n",
              "...              ...             ...   \n",
              "2052  30/04/22 16:10        MBA/PGDM   \n",
              "2053  30/04/22 16:30  BBA (Aviation)   \n",
              "2054  30/04/22 18:09       BE/B.Tech   \n",
              "2055  30/04/22 20:06  BBA (Aviation)   \n",
              "2056  30/04/22 22:03  BBA (Aviation)   \n",
              "\n",
              "                                               referrer               ip  \\\n",
              "0     https://collegedunia.com/courses/bachelor-of-s...    103.85.206.46   \n",
              "1     https://collegedunia.com/courses/bachelor-of-s...   205.253.26.160   \n",
              "2     https://collegedunia.com/courses/bachelor-of-s...  223.228.189.170   \n",
              "3     https://collegedunia.com/bba-aviation/pune-col...    110.225.92.35   \n",
              "4     https://collegedunia.com/courses/bachelor-of-b...    157.35.17.117   \n",
              "...                                                 ...              ...   \n",
              "2052  https://collegedunia.com/bba-aviation/mumbai-c...  106.193.135.232   \n",
              "2053  https://collegedunia.com/courses/bachelor-of-s...   103.54.145.133   \n",
              "2054          https://collegedunia.com/courses/aviation    110.224.21.46   \n",
              "2055  https://collegedunia.com/bba-aviation/gujarat-...   106.222.75.208   \n",
              "2056  https://collegedunia.com/courses/bachelor-of-b...     47.29.255.95   \n",
              "\n",
              "                                       from_page location_on_page country  \\\n",
              "0                    course_single_page_overview              NaN   India   \n",
              "1                    course_single_page_overview              NaN   India   \n",
              "2     course_single_page_career_options_and_jobs              NaN   India   \n",
              "3                                        listing              NaN   India   \n",
              "4                    course_single_page_overview              NaN   India   \n",
              "...                                          ...              ...     ...   \n",
              "2052                                     listing              NaN   India   \n",
              "2053                                     listing              NaN   India   \n",
              "2054                         stream_article_page              NaN   India   \n",
              "2055                                     listing              NaN   India   \n",
              "2056                 course_single_page_overview              NaN   India   \n",
              "\n",
              "          updated_on  \n",
              "0      01/03/22 8:17  \n",
              "1     01/03/22 10:26  \n",
              "2     01/03/22 10:43  \n",
              "3     01/03/22 11:15  \n",
              "4     01/03/22 11:27  \n",
              "...              ...  \n",
              "2052  30/04/22 16:10  \n",
              "2053  30/04/22 16:30  \n",
              "2054  30/04/22 18:09  \n",
              "2055  30/04/22 20:06  \n",
              "2056  30/04/22 22:03  \n",
              "\n",
              "[2057 rows x 17 columns]"
            ],
            "text/html": [
              "\n",
              "  <div id=\"df-6768aba1-7e59-4471-a79f-38850b026247\">\n",
              "    <div class=\"colab-df-container\">\n",
              "      <div>\n",
              "<style scoped>\n",
              "    .dataframe tbody tr th:only-of-type {\n",
              "        vertical-align: middle;\n",
              "    }\n",
              "\n",
              "    .dataframe tbody tr th {\n",
              "        vertical-align: top;\n",
              "    }\n",
              "\n",
              "    .dataframe thead th {\n",
              "        text-align: right;\n",
              "    }\n",
              "</style>\n",
              "<table border=\"1\" class=\"dataframe\">\n",
              "  <thead>\n",
              "    <tr style=\"text-align: right;\">\n",
              "      <th></th>\n",
              "      <th>name</th>\n",
              "      <th>email</th>\n",
              "      <th>stream</th>\n",
              "      <th>action</th>\n",
              "      <th>level</th>\n",
              "      <th>mode</th>\n",
              "      <th>state</th>\n",
              "      <th>city</th>\n",
              "      <th>source</th>\n",
              "      <th>created_on</th>\n",
              "      <th>course_tag</th>\n",
              "      <th>referrer</th>\n",
              "      <th>ip</th>\n",
              "      <th>from_page</th>\n",
              "      <th>location_on_page</th>\n",
              "      <th>country</th>\n",
              "      <th>updated_on</th>\n",
              "    </tr>\n",
              "  </thead>\n",
              "  <tbody>\n",
              "    <tr>\n",
              "      <th>0</th>\n",
              "      <td>Deva Arun</td>\n",
              "      <td>devatazmin@gmail.com</td>\n",
              "      <td>Engineering</td>\n",
              "      <td>Revisit</td>\n",
              "      <td>Graduation</td>\n",
              "      <td>Full Time</td>\n",
              "      <td>Kerala</td>\n",
              "      <td>Ernakulam</td>\n",
              "      <td>Mobile Web</td>\n",
              "      <td>01/03/22 8:17</td>\n",
              "      <td>BE/B.Tech</td>\n",
              "      <td>https://collegedunia.com/courses/bachelor-of-s...</td>\n",
              "      <td>103.85.206.46</td>\n",
              "      <td>course_single_page_overview</td>\n",
              "      <td>NaN</td>\n",
              "      <td>India</td>\n",
              "      <td>01/03/22 8:17</td>\n",
              "    </tr>\n",
              "    <tr>\n",
              "      <th>1</th>\n",
              "      <td>Naveed Shafi</td>\n",
              "      <td>naddunaveed1419@gmail.com</td>\n",
              "      <td>Science</td>\n",
              "      <td>Revisit</td>\n",
              "      <td>Graduation</td>\n",
              "      <td>Full Time</td>\n",
              "      <td>Jammu and Kashmir</td>\n",
              "      <td>Pulwama</td>\n",
              "      <td>Mobile Web</td>\n",
              "      <td>01/03/22 10:26</td>\n",
              "      <td>B.Sc</td>\n",
              "      <td>https://collegedunia.com/courses/bachelor-of-s...</td>\n",
              "      <td>205.253.26.160</td>\n",
              "      <td>course_single_page_overview</td>\n",
              "      <td>NaN</td>\n",
              "      <td>India</td>\n",
              "      <td>01/03/22 10:26</td>\n",
              "    </tr>\n",
              "    <tr>\n",
              "      <th>2</th>\n",
              "      <td>Sneha s</td>\n",
              "      <td>Jessieselvakumar26@gmail.com</td>\n",
              "      <td>Engineering</td>\n",
              "      <td>Revisit</td>\n",
              "      <td>Graduation</td>\n",
              "      <td>Full Time</td>\n",
              "      <td>Tamil Nadu</td>\n",
              "      <td>Chennai</td>\n",
              "      <td>Mobile Web</td>\n",
              "      <td>01/03/22 10:43</td>\n",
              "      <td>BE/B.Tech</td>\n",
              "      <td>https://collegedunia.com/courses/bachelor-of-s...</td>\n",
              "      <td>223.228.189.170</td>\n",
              "      <td>course_single_page_career_options_and_jobs</td>\n",
              "      <td>NaN</td>\n",
              "      <td>India</td>\n",
              "      <td>01/03/22 10:43</td>\n",
              "    </tr>\n",
              "    <tr>\n",
              "      <th>3</th>\n",
              "      <td>Anjali Nair</td>\n",
              "      <td>anjalinairaps@gmail.com</td>\n",
              "      <td>Aviation</td>\n",
              "      <td>auto_popup</td>\n",
              "      <td>Graduation</td>\n",
              "      <td>Full Time</td>\n",
              "      <td>Delhi NCR</td>\n",
              "      <td>New Delhi</td>\n",
              "      <td>Desktop</td>\n",
              "      <td>01/03/22 11:15</td>\n",
              "      <td>BBA (Aviation)</td>\n",
              "      <td>https://collegedunia.com/bba-aviation/pune-col...</td>\n",
              "      <td>110.225.92.35</td>\n",
              "      <td>listing</td>\n",
              "      <td>NaN</td>\n",
              "      <td>India</td>\n",
              "      <td>01/03/22 11:15</td>\n",
              "    </tr>\n",
              "    <tr>\n",
              "      <th>4</th>\n",
              "      <td>Shreyash Pratap</td>\n",
              "      <td>kps.hjp03@gmail.com</td>\n",
              "      <td>Management</td>\n",
              "      <td>Revisit</td>\n",
              "      <td>Graduation</td>\n",
              "      <td>Full Time</td>\n",
              "      <td>Bihar</td>\n",
              "      <td>Patna</td>\n",
              "      <td>Desktop</td>\n",
              "      <td>01/03/22 11:27</td>\n",
              "      <td>BBA/BBM</td>\n",
              "      <td>https://collegedunia.com/courses/bachelor-of-b...</td>\n",
              "      <td>157.35.17.117</td>\n",
              "      <td>course_single_page_overview</td>\n",
              "      <td>NaN</td>\n",
              "      <td>India</td>\n",
              "      <td>01/03/22 11:27</td>\n",
              "    </tr>\n",
              "    <tr>\n",
              "      <th>...</th>\n",
              "      <td>...</td>\n",
              "      <td>...</td>\n",
              "      <td>...</td>\n",
              "      <td>...</td>\n",
              "      <td>...</td>\n",
              "      <td>...</td>\n",
              "      <td>...</td>\n",
              "      <td>...</td>\n",
              "      <td>...</td>\n",
              "      <td>...</td>\n",
              "      <td>...</td>\n",
              "      <td>...</td>\n",
              "      <td>...</td>\n",
              "      <td>...</td>\n",
              "      <td>...</td>\n",
              "      <td>...</td>\n",
              "      <td>...</td>\n",
              "    </tr>\n",
              "    <tr>\n",
              "      <th>2052</th>\n",
              "      <td>Srikant Rana</td>\n",
              "      <td>shrikantrana7@gmail.com</td>\n",
              "      <td>Management</td>\n",
              "      <td>Revisit</td>\n",
              "      <td>Post Graduation</td>\n",
              "      <td>Full Time</td>\n",
              "      <td>Maharashtra</td>\n",
              "      <td>Mumbai</td>\n",
              "      <td>Mobile Web</td>\n",
              "      <td>30/04/22 16:10</td>\n",
              "      <td>MBA/PGDM</td>\n",
              "      <td>https://collegedunia.com/bba-aviation/mumbai-c...</td>\n",
              "      <td>106.193.135.232</td>\n",
              "      <td>listing</td>\n",
              "      <td>NaN</td>\n",
              "      <td>India</td>\n",
              "      <td>30/04/22 16:10</td>\n",
              "    </tr>\n",
              "    <tr>\n",
              "      <th>2053</th>\n",
              "      <td>Yogesh Jaiswal</td>\n",
              "      <td>yjaiswal3@gmail.com</td>\n",
              "      <td>Aviation</td>\n",
              "      <td>Revisit</td>\n",
              "      <td>Graduation</td>\n",
              "      <td>Full Time</td>\n",
              "      <td>Delhi NCR</td>\n",
              "      <td>New Delhi</td>\n",
              "      <td>Mobile Web</td>\n",
              "      <td>30/04/22 16:30</td>\n",
              "      <td>BBA (Aviation)</td>\n",
              "      <td>https://collegedunia.com/courses/bachelor-of-s...</td>\n",
              "      <td>103.54.145.133</td>\n",
              "      <td>listing</td>\n",
              "      <td>NaN</td>\n",
              "      <td>India</td>\n",
              "      <td>30/04/22 16:30</td>\n",
              "    </tr>\n",
              "    <tr>\n",
              "      <th>2054</th>\n",
              "      <td>Sujal chowdhury</td>\n",
              "      <td>sujalchowdhury72@gmail.com</td>\n",
              "      <td>Engineering</td>\n",
              "      <td>Revisit</td>\n",
              "      <td>Graduation</td>\n",
              "      <td>Full Time</td>\n",
              "      <td>West Bengal</td>\n",
              "      <td>Kolkata</td>\n",
              "      <td>Mobile Web</td>\n",
              "      <td>30/04/22 18:09</td>\n",
              "      <td>BE/B.Tech</td>\n",
              "      <td>https://collegedunia.com/courses/aviation</td>\n",
              "      <td>110.224.21.46</td>\n",
              "      <td>stream_article_page</td>\n",
              "      <td>NaN</td>\n",
              "      <td>India</td>\n",
              "      <td>30/04/22 18:09</td>\n",
              "    </tr>\n",
              "    <tr>\n",
              "      <th>2055</th>\n",
              "      <td>Jessica Dhanak</td>\n",
              "      <td>reginaprincess504@gmail.com</td>\n",
              "      <td>Aviation</td>\n",
              "      <td>Revisit</td>\n",
              "      <td>Graduation</td>\n",
              "      <td>Full Time</td>\n",
              "      <td>Gujarat</td>\n",
              "      <td>Rajkot</td>\n",
              "      <td>Mobile Web</td>\n",
              "      <td>30/04/22 20:06</td>\n",
              "      <td>BBA (Aviation)</td>\n",
              "      <td>https://collegedunia.com/bba-aviation/gujarat-...</td>\n",
              "      <td>106.222.75.208</td>\n",
              "      <td>listing</td>\n",
              "      <td>NaN</td>\n",
              "      <td>India</td>\n",
              "      <td>30/04/22 20:06</td>\n",
              "    </tr>\n",
              "    <tr>\n",
              "      <th>2056</th>\n",
              "      <td>Niyorkona Bora</td>\n",
              "      <td>niyorkonab@gmail.com</td>\n",
              "      <td>Aviation</td>\n",
              "      <td>Revisit</td>\n",
              "      <td>Graduation</td>\n",
              "      <td>Full Time</td>\n",
              "      <td>Assam</td>\n",
              "      <td>Guwahati</td>\n",
              "      <td>Mobile Web</td>\n",
              "      <td>30/04/22 22:03</td>\n",
              "      <td>BBA (Aviation)</td>\n",
              "      <td>https://collegedunia.com/courses/bachelor-of-b...</td>\n",
              "      <td>47.29.255.95</td>\n",
              "      <td>course_single_page_overview</td>\n",
              "      <td>NaN</td>\n",
              "      <td>India</td>\n",
              "      <td>30/04/22 22:03</td>\n",
              "    </tr>\n",
              "  </tbody>\n",
              "</table>\n",
              "<p>2057 rows × 17 columns</p>\n",
              "</div>\n",
              "      <button class=\"colab-df-convert\" onclick=\"convertToInteractive('df-6768aba1-7e59-4471-a79f-38850b026247')\"\n",
              "              title=\"Convert this dataframe to an interactive table.\"\n",
              "              style=\"display:none;\">\n",
              "        \n",
              "  <svg xmlns=\"http://www.w3.org/2000/svg\" height=\"24px\"viewBox=\"0 0 24 24\"\n",
              "       width=\"24px\">\n",
              "    <path d=\"M0 0h24v24H0V0z\" fill=\"none\"/>\n",
              "    <path d=\"M18.56 5.44l.94 2.06.94-2.06 2.06-.94-2.06-.94-.94-2.06-.94 2.06-2.06.94zm-11 1L8.5 8.5l.94-2.06 2.06-.94-2.06-.94L8.5 2.5l-.94 2.06-2.06.94zm10 10l.94 2.06.94-2.06 2.06-.94-2.06-.94-.94-2.06-.94 2.06-2.06.94z\"/><path d=\"M17.41 7.96l-1.37-1.37c-.4-.4-.92-.59-1.43-.59-.52 0-1.04.2-1.43.59L10.3 9.45l-7.72 7.72c-.78.78-.78 2.05 0 2.83L4 21.41c.39.39.9.59 1.41.59.51 0 1.02-.2 1.41-.59l7.78-7.78 2.81-2.81c.8-.78.8-2.07 0-2.86zM5.41 20L4 18.59l7.72-7.72 1.47 1.35L5.41 20z\"/>\n",
              "  </svg>\n",
              "      </button>\n",
              "      \n",
              "  <style>\n",
              "    .colab-df-container {\n",
              "      display:flex;\n",
              "      flex-wrap:wrap;\n",
              "      gap: 12px;\n",
              "    }\n",
              "\n",
              "    .colab-df-convert {\n",
              "      background-color: #E8F0FE;\n",
              "      border: none;\n",
              "      border-radius: 50%;\n",
              "      cursor: pointer;\n",
              "      display: none;\n",
              "      fill: #1967D2;\n",
              "      height: 32px;\n",
              "      padding: 0 0 0 0;\n",
              "      width: 32px;\n",
              "    }\n",
              "\n",
              "    .colab-df-convert:hover {\n",
              "      background-color: #E2EBFA;\n",
              "      box-shadow: 0px 1px 2px rgba(60, 64, 67, 0.3), 0px 1px 3px 1px rgba(60, 64, 67, 0.15);\n",
              "      fill: #174EA6;\n",
              "    }\n",
              "\n",
              "    [theme=dark] .colab-df-convert {\n",
              "      background-color: #3B4455;\n",
              "      fill: #D2E3FC;\n",
              "    }\n",
              "\n",
              "    [theme=dark] .colab-df-convert:hover {\n",
              "      background-color: #434B5C;\n",
              "      box-shadow: 0px 1px 3px 1px rgba(0, 0, 0, 0.15);\n",
              "      filter: drop-shadow(0px 1px 2px rgba(0, 0, 0, 0.3));\n",
              "      fill: #FFFFFF;\n",
              "    }\n",
              "  </style>\n",
              "\n",
              "      <script>\n",
              "        const buttonEl =\n",
              "          document.querySelector('#df-6768aba1-7e59-4471-a79f-38850b026247 button.colab-df-convert');\n",
              "        buttonEl.style.display =\n",
              "          google.colab.kernel.accessAllowed ? 'block' : 'none';\n",
              "\n",
              "        async function convertToInteractive(key) {\n",
              "          const element = document.querySelector('#df-6768aba1-7e59-4471-a79f-38850b026247');\n",
              "          const dataTable =\n",
              "            await google.colab.kernel.invokeFunction('convertToInteractive',\n",
              "                                                     [key], {});\n",
              "          if (!dataTable) return;\n",
              "\n",
              "          const docLinkHtml = 'Like what you see? Visit the ' +\n",
              "            '<a target=\"_blank\" href=https://colab.research.google.com/notebooks/data_table.ipynb>data table notebook</a>'\n",
              "            + ' to learn more about interactive tables.';\n",
              "          element.innerHTML = '';\n",
              "          dataTable['output_type'] = 'display_data';\n",
              "          await google.colab.output.renderOutput(dataTable, element);\n",
              "          const docLink = document.createElement('div');\n",
              "          docLink.innerHTML = docLinkHtml;\n",
              "          element.appendChild(docLink);\n",
              "        }\n",
              "      </script>\n",
              "    </div>\n",
              "  </div>\n",
              "  "
            ]
          },
          "metadata": {},
          "execution_count": 29
        }
      ]
    },
    {
      "cell_type": "code",
      "source": [
        "corr= df_numerical.corr()\n",
        "sns.heatmap(corr, annot=True)"
      ],
      "metadata": {
        "colab": {
          "base_uri": "https://localhost:8080/",
          "height": 360
        },
        "id": "M0q-NIyAvAXC",
        "outputId": "a0d8051e-e90d-4846-b3f2-bc3269a2e5e8"
      },
      "execution_count": null,
      "outputs": [
        {
          "output_type": "execute_result",
          "data": {
            "text/plain": [
              "<matplotlib.axes._subplots.AxesSubplot at 0x7fc006862cd0>"
            ]
          },
          "metadata": {},
          "execution_count": 30
        },
        {
          "output_type": "display_data",
          "data": {
            "text/plain": [
              "<Figure size 432x288 with 2 Axes>"
            ],
            "image/png": "[encoded data removed]"
          },
          "metadata": {
            "needs_background": "light"
          }
        }
      ]
    },
    {
      "cell_type": "code",
      "source": [
        "sns.pairplot(df_numerical)"
      ],
      "metadata": {
        "colab": {
          "base_uri": "https://localhost:8080/",
          "height": 744
        },
        "id": "3bP-JXt_0LSk",
        "outputId": "51b86704-2672-4c79-e6b9-af37f9968f89"
      },
      "execution_count": null,
      "outputs": [
        {
          "output_type": "execute_result",
          "data": {
            "text/plain": [
              "<seaborn.axisgrid.PairGrid at 0x7fc003f90b50>"
            ]
          },
          "metadata": {},
          "execution_count": 31
        },
        {
          "output_type": "display_data",
          "data": {
            "text/plain": [
              "<Figure size 720x720 with 20 Axes>"
            ],
            "image/png": "[encoded data removed]"
          },
          "metadata": {
            "needs_background": "light"
          }
        }
      ]
    },
    {
      "cell_type": "code",
      "source": [
        "df1.hist(by='mode', column = 'course_tag',figsize=(22,6))"
      ],
      "metadata": {
        "colab": {
          "base_uri": "https://localhost:8080/",
          "height": 544
        },
        "id": "sRuWmZBY0Lg9",
        "outputId": "9b8e75ce-bc50-4d08-f6d0-cd14a50b92a5"
      },
      "execution_count": null,
      "outputs": [
        {
          "output_type": "execute_result",
          "data": {
            "text/plain": [
              "array([<matplotlib.axes._subplots.AxesSubplot object at 0x7fbfff1cc890>,\n",
              "       <matplotlib.axes._subplots.AxesSubplot object at 0x7fbfff0b3590>],\n",
              "      dtype=object)"
            ]
          },
          "metadata": {},
          "execution_count": 32
        },
        {
          "output_type": "display_data",
          "data": {
            "text/plain": [
              "<Figure size 1584x432 with 2 Axes>"
            ],
            "image/png": "[encoded data removed]"
          },
          "metadata": {
            "needs_background": "light"
          }
        }
      ]
    },
    {
      "cell_type": "code",
      "source": [
        "df1.hist(by='level', column = 'course_tag',figsize=(22,6))"
      ],
      "metadata": {
        "id": "0MYGXSKRvAaH",
        "colab": {
          "base_uri": "https://localhost:8080/",
          "height": 542
        },
        "outputId": "d2db1ee2-2bd7-4d5b-d77c-240eccd1a83e"
      },
      "execution_count": null,
      "outputs": [
        {
          "output_type": "execute_result",
          "data": {
            "text/plain": [
              "array([<matplotlib.axes._subplots.AxesSubplot object at 0x7fbffc78b090>,\n",
              "       <matplotlib.axes._subplots.AxesSubplot object at 0x7fbffc7b8e10>],\n",
              "      dtype=object)"
            ]
          },
          "metadata": {},
          "execution_count": 56
        },
        {
          "output_type": "display_data",
          "data": {
            "text/plain": [
              "<Figure size 1584x432 with 2 Axes>"
            ],
            "image/png": "[encoded data removed]"
          },
          "metadata": {
            "needs_background": "light"
          }
        }
      ]
    },
    {
      "cell_type": "code",
      "source": [
        "df1.shape"
      ],
      "metadata": {
        "id": "HW66Of7NvAc2",
        "colab": {
          "base_uri": "https://localhost:8080/"
        },
        "outputId": "34864aba-2dbf-44b3-ed85-048bc46fe43f"
      },
      "execution_count": null,
      "outputs": [
        {
          "output_type": "execute_result",
          "data": {
            "text/plain": [
              "(2057, 32)"
            ]
          },
          "metadata": {},
          "execution_count": 66
        }
      ]
    },
    {
      "cell_type": "code",
      "source": [
        ""
      ],
      "metadata": {
        "id": "9rTbkOAZvAf_"
      },
      "execution_count": null,
      "outputs": []
    }
  ]
}